{
  "cells": [
    {
      "cell_type": "markdown",
      "metadata": {
        "id": "UfDocXZMNfuh"
      },
      "source": [
        "<hr style=\"height:2px;border:none\"/>\n",
        "<center>\n",
        "    <h1>INF495 - Modelamiento Computacional Aplicado</h1>\n",
        "    <h1> - Proyecto -</h1>\n",
        "    <h2> Modelamiento de tráfico de bicicletas en dos pistas para análisis de accidentes </h2>\n",
        "    <h3>José Quezada</h3>\n",
        "</center>\n",
        "<br>\n",
        "<hr style=\"height:2px;border:none\"/>"
      ]
    },
    {
      "cell_type": "markdown",
      "source": [
        "## Supuestos\n",
        "\n",
        "- Se cuenta con 2 pistas contiguas, en distinto sentido vehicular, exclusivas para bicicletas.\n",
        "- Hay un flujo de entrada constante de bicicletas a ambas pistas.\n",
        "- Las bicicletas pueden contar con una de 3 velocidades máximas distintas, escogidas al azar.\n",
        "- Se cuenta con una variable de atención, que define la aceleración de frenado de manera directamente proporcional.\n",
        "- Cuando una bicicleta detecta otra delante suyo, su aceleración actual cambia a la de frenado, con tal de disminuir la velocidad e intentar no colisionar. En caso de haber frenado, se comprueba que no haya ningún otro individuo cercano en la otra pista y, de ser así, se cambia a esta, con tal de poder pasar a su \"oponente\". Luego se realiza la misma comprobación para regresar, una vez se superó al otro ciclista."
      ],
      "metadata": {
        "id": "LtIpw8VikCxg"
      }
    },
    {
      "cell_type": "markdown",
      "source": [
        "# Modelo de agente"
      ],
      "metadata": {
        "id": "a2idyNNBmbGz"
      }
    },
    {
      "cell_type": "markdown",
      "source": [
        "### Representación espacial\n",
        "El mapa consiste en dos pistas del mismo largo, cuyas unidades de distancia se basan en una densidad de \"pixeles\" por metro. (Se le llaman pixeles, por simplicidad, a cada elemento de la matriz que compone el mapa)  \n",
        "En este caso se escogen **100 [px/m]**, y un largo de pista de **100 [m]** o **10.000 [px]**."
      ],
      "metadata": {
        "id": "ztwJoSlckZPn"
      }
    },
    {
      "cell_type": "markdown",
      "source": [
        "### Representación temporal\n",
        "De la misma forma, se define una resolución para los time-steps (*Δt*), que consiste en el tiempo que transcurre en cada iteración, con tal de poder contar con una mejor especificidad al realizar cálculos y decisiones, como al frenar, y el criterio para que dos bicicletas colisionen.  \n",
        "\n",
        "Como ejemplo, si la iteración dura 0.2 \\[s], y la velocidad actual de una bicicleta son 5 \\[m/s], sería equivalente a:  \n",
        "$$ 5 [m/s] \\cdot (0.2 [s] / 1 Δt) = 1 [m/Δt]  $$"
      ],
      "metadata": {
        "id": "celqMB6Mkc62"
      }
    },
    {
      "cell_type": "markdown",
      "source": [
        "### Atención\n",
        "Se define además este atributo como una variable aleatoria, definida como una gaussiana truncada entre 0 y 1, con $\\mu$ = 0.5 y $\\sigma$ = 0.2. \n",
        "\n",
        "Esta representaría, de manera conceptual, el tiempo de reacción para que un ciclista comience a frenar. Sin embargo, para simplicidad del modelo, "
      ],
      "metadata": {
        "id": "Ig30K8LfmRR5"
      }
    },
    {
      "cell_type": "code",
      "source": [
        "x = np.linspace(-1,2,100)\n",
        "plt.figure()\n",
        "plt.plot(x, stats.truncnorm((0 - 0.5) / 0.2, (1 - 0.5) / 0.2, loc=0.5, scale=0.2).pdf(x))\n",
        "plt.show()"
      ],
      "metadata": {
        "colab": {
          "base_uri": "https://localhost:8080/",
          "height": 264
        },
        "id": "zmFTSQ3_PLXa",
        "outputId": "57e62d6a-ad66-4c8c-f8d9-5c57ea17c4b8"
      },
      "execution_count": null,
      "outputs": [
        {
          "output_type": "display_data",
          "data": {
            "image/png": "[encoded data removed]",
            "text/plain": [
              "<Figure size 432x288 with 1 Axes>"
            ]
          },
          "metadata": {
            "needs_background": "light"
          }
        }
      ]
    },
    {
      "cell_type": "markdown",
      "source": [
        "### Estructura de mapeo\n",
        "Se cuenta con una estructura de datos, que corresponde a dos hashings o diccionarios que guardan el identificador y la posición actual de cada bicicleta, asociando estos datos a un área específica de cada pista, así optimizando de mejor manera la búsqueda de vecinos, tanto para frenar en una pista como para decidir si cambiar a la otra.  \n",
        "\n",
        "De esta manera se puede obtener la sección a la que una instancia de bicicleta pertenece, a partir de su posición en una de las pistas.   \n",
        "\n",
        "Por ejemplo, si la posición corresponde a 15, en una pista con 4 secciones de tamaño 6, basta con realizar el siguiente cálculo:\n",
        "$$\\lfloor\\frac{15}{6}\\rfloor = 2$$  \n",
        "\n",
        "Perteneciendo en este caso, la posición 15 a la tercera sección (i=2) del mapa."
      ],
      "metadata": {
        "id": "SfVHrUxI-Ic7"
      }
    },
    {
      "cell_type": "markdown",
      "source": [
        "![mapeo ACM.png](data:image/png;base64,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)"
      ],
      "metadata": {
        "id": "IBYMiawPmOI_"
      }
    },
    {
      "cell_type": "code",
      "execution_count": null,
      "metadata": {
        "id": "qNqoakX5Nfup"
      },
      "outputs": [],
      "source": [
        "import numpy as np\n",
        "import scipy.stats as stats\n",
        "import matplotlib.pyplot as plt\n",
        "from IPython.display import clear_output\n",
        "import sys\n",
        "import signal"
      ]
    },
    {
      "cell_type": "code",
      "execution_count": null,
      "metadata": {
        "id": "BbhFjkQFNfup"
      },
      "outputs": [],
      "source": [
        "class bicicleta:\n",
        "    def __init__(self, id, loc, vMax, acc, accFreno, orientacion):\n",
        "        self.id = id\n",
        "        self.loc = loc\n",
        "        self.orientacion = orientacion\n",
        "        \n",
        "        # gaussiana truncada\n",
        "        self.atencion = round(stats.truncnorm((0 - 0.5) / 0.2, (1 - 0.5) / 0.2, loc=0.5, scale=0.2).rvs(), 2)\n",
        "        \n",
        "        self.vAct = int(vMax/4)\n",
        "        self.vMax = vMax\n",
        "        \n",
        "        self.initAcc = acc\n",
        "        self.actAcc = acc\n",
        "        \n",
        "        self.accFreno = self.atencion * accFreno\n",
        "        self.frenado = 0 # para indicar si ya frenó una vez\n",
        "\n",
        "        self.oponenteId = -1 # id de bicicleta que se quiere evitar\n",
        "\n",
        "\n",
        "class pista:\n",
        "    def __init__(self, largo, ancho):\n",
        "        self.largo = largo\n",
        "        self.map = np.zeros((ancho, largo))"
      ]
    },
    {
      "cell_type": "code",
      "execution_count": null,
      "metadata": {
        "id": "Vimk48eFNfuq"
      },
      "outputs": [],
      "source": [
        "# elimina un elemento de un arreglo de manera eficiente\n",
        "# además elimina los datos del elemento del mapa y del hash de mapeo (Pm)\n",
        "def swapop(Poblacion, index, Pista, Pm):\n",
        "   \n",
        "    coordMapaDead = Poblacion[index].loc\n",
        "    coordMapaLast = Poblacion[-1].loc\n",
        "\n",
        "    delta_L = Pista.largo/len(Pm)\n",
        "    mappingDead = int(np.floor(coordMapaDead[1]/delta_L))\n",
        "    if coordMapaDead[0] == 1:\n",
        "        mappingDead = len(Pm) - 1 - mappingDead\n",
        "    # mappingLast = int(np.floor(coordMapaLast[1]/delta_L))\n",
        "    \n",
        "    if debug:\n",
        "        print(\"mapping: id:\", Poblacion[index].id, \"Pm[]:\", Pm[mappingDead])\n",
        "    \n",
        "    Pm[mappingDead] = [m for m in Pm[mappingDead] if m[0] != Poblacion[index].id]\n",
        "            \n",
        "    # si el elemento a ser eliminado no es el último\n",
        "    if index < len(Poblacion) and index != -1 and index >= 0:\n",
        "\n",
        "        # guardar en aux datos del ciclista finalizado\n",
        "        aux = Poblacion[index]\n",
        "        Poblacion[index] = Poblacion[-1]\n",
        "        Poblacion[-1] = aux\n",
        "    \n",
        "    elif index < 0:\n",
        "        print(\"\\n[swapop]: error: index menor a 0\")\n",
        "    \n",
        "    # eliminar datos del mapa\n",
        "    Pista.map[coordMapaDead[0], coordMapaDead[1]] = 0\n",
        "\n",
        "    # eliminar último elemento de arreglo\n",
        "    Poblacion.pop()\n",
        "\n",
        "\n",
        "    return Poblacion, Pista, Pm\n",
        "\n",
        "\n",
        "# transforma velocidad de Km/h a px/delta_t\n",
        "def KmhToPxDt(vel, pxpm, delta_t):\n",
        "    return int(vel * 1000 / 3600 * pxpm * delta_t)\n",
        "\n",
        "\n",
        "# minima distancia (e indice dentro Area) de una bicicleta a otra en una pista específica\n",
        "def getMinDist(Poblacion, Pm_p, mappingArea, pIndex, cambioPistaBool):\n",
        "\n",
        "    # area de mapeo\n",
        "    Area = Pm_p[mappingArea]\n",
        "    if mappingArea != len(Pm_p) - 1:\n",
        "        Area = Pm_p[mappingArea] + Pm_p[mappingArea + 1]\n",
        "\n",
        "    minIndex = pIndex\n",
        "    minDist = radioCerc\n",
        "    oponenteId = -1\n",
        "\n",
        "    if debug:\n",
        "        print(\"area [getMinDist]:\", Area)\n",
        "\n",
        "    index = 0\n",
        "    for bici in Area:\n",
        "        \n",
        "        idBici = bici[0]\n",
        "        locBici = bici[1][1]\n",
        "\n",
        "        if idBici != Poblacion[pIndex].id:\n",
        "        \n",
        "            if cambioPistaBool:\n",
        "                dist = Poblacion[pIndex].orientacion * (locBici - Poblacion[pIndex].loc[1])\n",
        "            else:\n",
        "                dist = abs((locBici - Poblacion[pIndex].loc[1]))\n",
        "            \n",
        "            if dist >= 0 and dist < minDist:\n",
        "                minDist = dist\n",
        "                minIndex = index\n",
        "                oponenteId = idBici\n",
        "        \n",
        "        index += 1\n",
        "\n",
        "    return Area, minIndex, minDist, oponenteId\n",
        "\n",
        "\n",
        "# retorna index: accidente, 1111: si, 9999: no\n",
        "def bicicleta_cercana_mapping(Pista, Poblacion, pIndex, mappingArea, Pm_p):\n",
        "\n",
        "    Area, minIndex, minDist, oponenteId = getMinDist(Poblacion, Pm_p, mappingArea, pIndex, False)\n",
        "\n",
        "    if debug:\n",
        "        print(\"minDist:\", minDist)\n",
        "\n",
        "    if minIndex != pIndex:\n",
        "        \n",
        "        # accidente\n",
        "        if minDist < 2*pxpm:\n",
        "            \n",
        "            if debug:\n",
        "                print(\"accidente!\")\n",
        "\n",
        "            loc = Poblacion[pIndex].loc\n",
        "\n",
        "            Pista.map[loc[0], Area[minIndex][1][1]] = 0\n",
        "            Pista.map[loc[0], loc[1]] = 0\n",
        "\n",
        "            return Pista, minDist, oponenteId\n",
        "\n",
        "        # solo hay que frenar (se está cerca, pero ni tanto)\n",
        "        else:\n",
        "            return Pista, 11111, oponenteId\n",
        "\n",
        "\n",
        "    # no hay nadie cerca\n",
        "    return Pista, 9999, -1\n",
        "\n",
        "\n",
        "# cambiar a otra pista específica\n",
        "def switchPista(Poblacion, Pista, Pm, pIndex, mappingArea, prev_loc, nuevaPista):\n",
        "\n",
        "    prevPista = prev_loc[0]\n",
        "    _, _, minDist, _ = getMinDist(Poblacion, Pm[nuevaPista], mappingArea, pIndex, True)\n",
        "\n",
        "    if minDist >= radioCerc:\n",
        "\n",
        "        if debug:\n",
        "            print(\"cambio de pista, minDist:\", minDist)\n",
        "        \n",
        "        \n",
        "        # actualizar mapa\n",
        "        Pista.map[prevPista, prev_loc[1]] = 0\n",
        "        Pista.map[nuevaPista, prev_loc[1]] = 1\n",
        "        \n",
        "        # actualizar mapeo\n",
        "        Pm[prevPista][mappingArea] = [m for m in Pm[prevPista][mappingArea] if m[0] != Poblacion[pIndex].id]\n",
        "        mappingArea = len(Pm[0]) - mappingArea - 1\n",
        "        Pm[nuevaPista][mappingArea].append([Poblacion[pIndex].id, Poblacion[pIndex].loc])\n",
        "\n",
        "        return Pista, Pm, True\n",
        "\n",
        "    else:\n",
        "        return Pista, Pm, False\n",
        "\n",
        "\n",
        "# regresar a pista original una vez se pasó al ciclista oponente\n",
        "def returnToPista(Poblacion, Pista, Pm, largoPm, mappingArea, pIndex, prev_loc, pistaOriginal, vel):\n",
        "    \n",
        "    oponenteArea = largoPm - 1 - mappingArea\n",
        "\n",
        "    if debug:\n",
        "        print(\"oponenteArea inicial:\", oponenteArea, \"areaActual:\", mappingArea)\n",
        "    \n",
        "    returnP = False\n",
        "    oponenteFound = False\n",
        "    i = 0\n",
        "    while not oponenteFound:\n",
        "        if oponenteArea >= largoPm:\n",
        "            oponente_loc = -1\n",
        "            if debug:\n",
        "                print(\"oponente murió\")\n",
        "            break\n",
        "        for i in Pm[pistaOriginal][oponenteArea]:\n",
        "            if i[0] == Poblacion[pIndex].oponenteId:\n",
        "                oponente_loc = i[1][1]\n",
        "                oponenteFound = True\n",
        "        oponenteArea += 1\n",
        "    \n",
        "    distOponente = Poblacion[pIndex].orientacion * (prev_loc[1] - (oponente_loc + vel))\n",
        "    if  distOponente > 2*pxpm or oponente_loc == -1: # por mientras usaré la máxima velocidad\n",
        "        Pista, Pm, switch = switchPista(Poblacion, Pista, Pm, pIndex, mappingArea, prev_loc, pistaOriginal)\n",
        "        if debug:\n",
        "            print(\"distancia a oponente:\", Poblacion[pIndex].orientacion * (prev_loc[1] - (oponente_loc + vel)))\n",
        "        if switch:\n",
        "            returnP = True\n",
        "\n",
        "    return Pista, Pm, returnP\n"
      ]
    },
    {
      "cell_type": "code",
      "execution_count": null,
      "metadata": {
        "id": "OIMAT2tBNfuv"
      },
      "outputs": [],
      "source": [
        "def main():\n",
        "\n",
        "    # manejar ctrl + C\n",
        "    def signal_handler(sig, frame):\n",
        "\n",
        "        print(\"Total:\", cantTotalFinal, \"\\nMeta:\", cantMetaFinal, \"\\nAccidentados:\", cantAccidentFinal, \"\\nAndando:\", cantTotalFinal-cantMetaFinal-cantAccidentFinal)\n",
        "\n",
        "        if not debugMap:\n",
        "            modelEnd(t, delta_t, pobs, meta, accident, pobsFinal, metaFinal, accidentFinal, accidentPista, accidentFreno, otraPistaAct, Freno)\n",
        "        sys.exit(0)\n",
        "        \n",
        "    signal.signal(signal.SIGINT, signal_handler)\n",
        "\n",
        "    # inicializar pista\n",
        "    largoP = pxpm * 100 # px/m * m | granularidad y distancia\n",
        "    # 100 pixeles/metro -> 1 px/cm\n",
        "    P = pista(largoP, 2)\n",
        "\n",
        "    # hash con mapeo de ubicación de ciclistas en \"largoPm\" sectores\n",
        "    # una para cada pista\n",
        "    Pm = [{}, {}]\n",
        "    largoPm = int(largoP / radioCerc)\n",
        "    for l in range(largoPm):\n",
        "        Pm[0][l] = []\n",
        "        Pm[1][l] = []\n",
        "        \n",
        "    delta_L = P.largo/largoPm\n",
        "\n",
        "    t = 0\n",
        "\n",
        "    # población de bicicletas\n",
        "    Pob = []\n",
        "\n",
        "\n",
        "    cantTotalFinal = 0\n",
        "    cantMetaFinal = 0\n",
        "    cantAccidentFinal = 0\n",
        "    \n",
        "    cantAccidentPista = 0\n",
        "    cantAccidentFreno = 0\n",
        "    cantOtraPistaAct = 0\n",
        "    cantFreno = 0\n",
        "\n",
        "    # registro de estados de ciclistas\n",
        "    pobs = []\n",
        "    meta = []\n",
        "    accident = []\n",
        "    pobsFinal = []\n",
        "    metaFinal = []\n",
        "    accidentFinal = []\n",
        "\n",
        "    accidentPista = []\n",
        "    accidentFreno = []\n",
        "\n",
        "    otraPistaAct = []\n",
        "    Freno = []\n",
        "\n",
        "    while t < T:\n",
        "\n",
        "        cantTotal = 0\n",
        "        cantMeta = 0\n",
        "        cantAccident = 0\n",
        "\n",
        "        # hacer variable\n",
        "        # inicializar bicicleta\n",
        "        if round(t, 1) % (flujo_in / delta_t) == 0:\n",
        "\n",
        "            v1 = KmhToPxDt(8, pxpm, delta_t)\n",
        "            v2 = KmhToPxDt(12, pxpm, delta_t)\n",
        "            v3 = KmhToPxDt(20, pxpm, delta_t)\n",
        "\n",
        "            initVMax = np.random.choice([v1, v2, v3], p= [0.3, 0.55, 0.15])\n",
        "\n",
        "            # que en 4 pasos alcance la velocidad máxima\n",
        "            initAcc = int(np.ceil(initVMax/4 / 1))\n",
        "\n",
        "            # pista 0\n",
        "            if np.random.random() < 0.5:\n",
        "\n",
        "                initLoc = [0,0]\n",
        "                initOrientacion = 1\n",
        "\n",
        "            # pista 1\n",
        "            else:\n",
        "                initLoc = [1, largoP-1]\n",
        "                initOrientacion = -1\n",
        "                            \n",
        "            Pob.append(bicicleta(cantTotalFinal + cantTotal, initLoc, initVMax, initAcc, accFreno, initOrientacion))  # aqui cantTotal sirve como id\n",
        "            P.map[Pob[-1].loc[0], Pob[-1].loc[1]] = 1\n",
        "            Pm[initLoc[0]][0].append([cantTotalFinal + cantTotal, initLoc])\n",
        "\n",
        "            cantTotal += 1\n",
        "\n",
        "\n",
        "        pobFin = []\n",
        "        b_index = 0\n",
        "        for _ in Pob:\n",
        "\n",
        "            # si la bicicleta ya se encontró en un accidente\n",
        "            if b_index in pobFin:\n",
        "                b_index += 1\n",
        "                continue\n",
        "\n",
        "            # ubicación actual\n",
        "            prev_loc = Pob[b_index].loc\n",
        "            \n",
        "            PmArea = int(np.floor(prev_loc[1]/delta_L))\n",
        "            if prev_loc[0] == 1:\n",
        "                PmArea = largoPm - 1 - PmArea # se invierte en la otra pista\n",
        "\n",
        "            if debug:\n",
        "                print(\"\\nUbicación actual:\", prev_loc, \"Area:\", PmArea)\n",
        "\n",
        "            P, bc, oponenteId = bicicleta_cercana_mapping(P, Pob, b_index, PmArea, Pm[prev_loc[0]])\n",
        "\n",
        "            # Accidente\n",
        "            if bc <= radioCerc:\n",
        "                \n",
        "                # buscar en Pob por loc\n",
        "                pobFin.append(b_index)\n",
        "                cantAccident += 1\n",
        "                \n",
        "                # si se está en otra pista\n",
        "                if prev_loc[0] == Pob[b_index].orientacion or prev_loc[0] - 1 == Pob[b_index].orientacion:\n",
        "                    cantAccidentPista += 1\n",
        "                else:\n",
        "                    cantAccidentFreno += 1\n",
        "\n",
        "                index = 0\n",
        "                while Pob[index].id != oponenteId:\n",
        "                    index += 1\n",
        "\n",
        "                pobFin.append(index)\n",
        "                cantAccident += 1\n",
        "\n",
        "                # bicicletas afectadas\n",
        "                if debug:\n",
        "                    print(\"accidentados:\\n\", b_index)\n",
        "                    print(index)\n",
        "\n",
        "                b_index += 1\n",
        "                continue\n",
        "\n",
        "            # Frenar (bicicleta cercana)\n",
        "            elif bc == 11111:\n",
        "\n",
        "                # cambiar pista\n",
        "                if Pob[b_index].frenado == 2:\n",
        "\n",
        "                    Pob[b_index].oponenteId = oponenteId\n",
        "\n",
        "                    nuevaPista = abs(prev_loc[0] - 1)\n",
        "                    \n",
        "                    P, Pm, switch = switchPista(Pob, P, Pm, b_index, PmArea, prev_loc, nuevaPista)\n",
        "                    \n",
        "                    if switch:\n",
        "                        Pob[b_index].loc[0] = nuevaPista\n",
        "                        Pob[b_index].frenado = 0\n",
        "                        PmArea = largoPm - 1 - PmArea\n",
        "                        cantFreno -= 1\n",
        "                        cantOtraPistaAct += 1\n",
        "\n",
        "                else:\n",
        "                    Pob[b_index].actAcc = accFreno\n",
        "                    Pob[b_index].frenado = 1\n",
        "                    if debug:\n",
        "                        print(\"iniciar frenado\")\n",
        "                        print(\"actAcc:\", Pob[b_index].actAcc)\n",
        "                        print(\"initAcc:\", Pob[b_index].initAcc)\n",
        "\n",
        "                    cantFreno += 1\n",
        "                    \n",
        "\n",
        "            # Dejar de frenar (no hay bicicletas cercanas)\n",
        "            elif bc == 9999 and Pob[b_index].actAcc == accFreno:\n",
        "                Pob[b_index].actAcc = Pob[b_index].initAcc\n",
        "                if debug:\n",
        "                    print(\"nadie cerca, nueva acc:\", Pob[b_index].initAcc)\n",
        "                Pob[b_index].frenado = 0\n",
        "\n",
        "\n",
        "            # volver a la pista original\n",
        "            # no tienen que intentar volver de inmediato\n",
        "            # pista 0 corresponde a orientación 1, así que si estás en la pista 1, es porque debes volver ;)\n",
        "            if prev_loc[0] == Pob[b_index].orientacion:\n",
        "                \n",
        "                P, Pm, returnP = returnToPista(Pob, P, Pm, largoPm, PmArea, b_index, prev_loc, 0, v3)\n",
        "                if returnP:\n",
        "                    Pob[b_index].loc[0] = 0\n",
        "                    Pob[b_index].frenado = 0\n",
        "                    PmArea = largoPm - 1 - PmArea\n",
        "                    cantOtraPistaAct -= 1\n",
        "                    if debug:\n",
        "                        print(\"cambio a pista original 0\")\n",
        "\n",
        "            # retorno a pista 1\n",
        "            elif prev_loc[0] - 1 == Pob[b_index].orientacion:\n",
        "                P, Pm, returnP = returnToPista(Pob, P, Pm, largoPm, PmArea, b_index, prev_loc, 1, v3)\n",
        "                if returnP:\n",
        "                    Pob[b_index].loc[0] = 1\n",
        "                    Pob[b_index].frenado = 0\n",
        "                    PmArea = largoPm - 1 - PmArea\n",
        "                    cantOtraPistaAct -= 1\n",
        "                    if debug:\n",
        "                        print(\"cambio a pista original 1\")\n",
        "\n",
        "\n",
        "            # borrar posición previa en mapa\n",
        "            P.map[prev_loc[0], int(prev_loc[1])] = 0\n",
        "\n",
        "\n",
        "            # actualizar velocidad con aceleración actual (independiente de la situación)\n",
        "            vAct = Pob[b_index].vAct\n",
        "            actAcc = Pob[b_index].actAcc\n",
        "            \n",
        "            if vAct < Pob[b_index].vMax and vAct + actAcc >= 0:\n",
        "                Pob[b_index].vAct += actAcc * 1\n",
        "            \n",
        "            # se detiene\n",
        "            elif vAct + actAcc < 0:\n",
        "                if debug:\n",
        "                    print(\"frenado\")\n",
        "                Pob[b_index].vAct = 0\n",
        "                Pob[b_index].frenado = 2\n",
        "\n",
        "\n",
        "            # nueva ubicación\n",
        "            new_loc = Pob[b_index].loc[1] + Pob[b_index].orientacion * int(Pob[b_index].vAct)\n",
        "            \n",
        "                \n",
        "            # Meta\n",
        "            if (Pob[b_index].loc[0] == 0 and new_loc >= P.largo) or (Pob[b_index].loc[0] == 1 and new_loc <= 0):\n",
        "                pobFin.append(b_index)\n",
        "                cantMeta += 1\n",
        "                b_index += 1\n",
        "                continue\n",
        "\n",
        "            # Meta falsa (debería considerarse como accidente) (cuando se finaliza en otra pista)\n",
        "            if (Pob[b_index].loc[0] - 1 == Pob[b_index].orientacion and new_loc < 0) or  \\\n",
        "               (Pob[b_index].loc[0] == Pob[b_index].orientacion and new_loc > P.largo):\n",
        "\n",
        "                pobFin.append(b_index)\n",
        "                cantAccident += 1\n",
        "                b_index += 1\n",
        "                continue\n",
        "\n",
        "            # continuar recorrido\n",
        "            else:\n",
        "\n",
        "                Pob[b_index].loc = [Pob[b_index].loc[0], new_loc]\n",
        "                \n",
        "                nuevaArea = int(np.floor(new_loc/delta_L))\n",
        "                if Pob[b_index].loc[0] == 1:\n",
        "                    nuevaArea = largoPm - 1 - nuevaArea\n",
        "                if debug:\n",
        "                    print(\"nuevaArea:\", nuevaArea, Pm[Pob[b_index].loc[0]][nuevaArea])\n",
        "                \n",
        "                # mover de area de mapeo\n",
        "                if nuevaArea != PmArea:\n",
        "                    Pm[Pob[b_index].loc[0]][PmArea] = [m for m in Pm[Pob[b_index].loc[0]][PmArea] if m[0] != Pob[b_index].id]\n",
        "                    Pm[Pob[b_index].loc[0]][nuevaArea].append([Pob[b_index].id, Pob[b_index].loc])\n",
        "\n",
        "                try:\n",
        "                    index = 0\n",
        "                    while Pm[Pob[b_index].loc[0]][nuevaArea][index][0] != Pob[b_index].id:\n",
        "                        index += 1\n",
        "                except:\n",
        "                    sys.exit(\"Bicicleta no se encontró en su área de mapeo correspondiente.\")\n",
        "                \n",
        "                Pm[Pob[b_index].loc[0]][nuevaArea][index][1][1] = new_loc\n",
        "                \n",
        "\n",
        "            # actualizar mapa\n",
        "            P.map[Pob[b_index].loc[0], int(Pob[b_index].loc[1])] = 1\n",
        "\n",
        "            b_index += 1\n",
        "\n",
        "\n",
        "        # Eliminar bicicletas que llegaron a Meta y que se accidentaron\n",
        "        pobFin = list(set(pobFin))\n",
        "        pobFin.sort()\n",
        "        if debug and len(pobFin) > 0:\n",
        "            print(\"pobFin:\", t, pobFin)\n",
        "        for pf in reversed(pobFin):\n",
        "            pistaAct = Pob[pf].loc[0]\n",
        "            Pob, P, Pm[pistaAct] = swapop(Pob, pf, P, Pm[pistaAct])\n",
        "\n",
        "\n",
        "        # visualización\n",
        "        if debugMap:\n",
        "            Y, X = np.where(P.map)\n",
        "\n",
        "            fig, ax = plt.subplots(figsize=(12, 4))\n",
        "            ax.plot(X,Y, \".\")\n",
        "            plt.xlim([0, P.largo])\n",
        "            plt.ylim([-4.5, 5.5])\n",
        "            ax.set_yticklabels([])\n",
        "\n",
        "            plt.xlabel('Distancia [px] (1 [m] = 100 [px])')\n",
        "\n",
        "            plt.show()\n",
        "            plt.pause(0.05)\n",
        "            clear_output(wait=True)\n",
        "\n",
        "        t += delta_t\n",
        "\n",
        "        cantTotalFinal += cantTotal\n",
        "        cantMetaFinal += cantMeta\n",
        "        cantAccidentFinal += cantAccident\n",
        "\n",
        "        pobs.append(cantTotal)\n",
        "        meta.append(cantMeta)\n",
        "        accident.append(cantAccident)\n",
        "\n",
        "        pobsFinal.append(cantTotalFinal)\n",
        "        metaFinal.append(cantMetaFinal)\n",
        "        accidentFinal.append(cantAccidentFinal)\n",
        "\n",
        "        accidentPista.append(cantAccidentPista)\n",
        "        accidentFreno.append(cantAccidentFreno)\n",
        "        otraPistaAct.append(cantOtraPistaAct)\n",
        "        Freno.append(cantFreno)\n",
        "\n",
        "    # graficar datos\n",
        "    if not debugMap:\n",
        "        modelEnd(t, delta_t, pobs, meta, accident, pobsFinal, metaFinal, accidentFinal, accidentPista, accidentFreno, otraPistaAct, Freno)\n",
        "    print(\"Total:\", cantTotalFinal, \"\\nMeta:\", cantMetaFinal, \"\\nAccidentados:\", cantAccidentFinal, \"\\nAndando:\", cantTotalFinal-cantMetaFinal-cantAccidentFinal)\n"
      ]
    },
    {
      "cell_type": "code",
      "source": [
        "def plotData(delta_t, pobs, meta, accident, pobsFinal, metaFinal, accidentFinal, accidentPista, accidentFreno, otraPistaAct, Freno):\n",
        "\n",
        "    pobs_count = len(pobs) - 1\n",
        "    x = np.linspace(0, pobs_count, pobs_count + 1)\n",
        "    \n",
        "    plt.figure(figsize=(12,10))\n",
        "    plt.title(\"Cantidades de ciclistas\")\n",
        "    # plt.plot(x, pobs, 'b.', label='Total')\n",
        "    plt.plot(x, metaFinal, 'g.', label='Meta')\n",
        "    plt.plot(x, accidentFinal, 'r.', label='Accidentados')\n",
        "    plt.plot(x, np.array(pobsFinal)-np.array(metaFinal)-np.array(accidentFinal), '.', color=\"gold\", label='Andando')\n",
        "    \n",
        "    plt.plot(x, accidentPista, '.', color='indigo', label='Accidentes en otra pista')\n",
        "    plt.plot(x, accidentFreno, '.', color='hotpink', label='Accidentes con freno')\n",
        "    plt.plot(x, otraPistaAct, '.', color='royalblue' ,label='En otra pista')\n",
        "    plt.plot(x, Freno, '.', color='lawngreen', label='Freno')\n",
        "\n",
        "    plt.legend(loc='best')\n",
        "    plt.xlabel('Tiempo [Δt] (Δt = 0.1 [s])')\n",
        "    plt.ylabel('Población')\n",
        "    plt.grid(True)\n",
        "    plt.show()\n",
        "\n",
        "\n",
        "# función a ejecutar al terminar la simulación\n",
        "def modelEnd(t, delta_t, pobs, meta, accident, pobsFinal, metaFinal, accidentFinal, accidentPista, accidentFreno, otraPistaAct, Freno):\n",
        "    \n",
        "    plotData(delta_t, pobs, meta, accident, pobsFinal, metaFinal, accidentFinal, accidentPista, accidentFreno, otraPistaAct, Freno)"
      ],
      "metadata": {
        "id": "koUDsX_RtqtB"
      },
      "execution_count": null,
      "outputs": []
    },
    {
      "cell_type": "markdown",
      "source": [
        "## Visualización gráfica"
      ],
      "metadata": {
        "id": "5jD_h0-YEKFR"
      }
    },
    {
      "cell_type": "code",
      "source": [
        "# np.random.seed(8)\n",
        "np.random.seed(20)\n",
        "\n",
        "\n",
        "flujo_in = 0.1\n",
        "\n",
        "pxpm = 100 # px por mt (granularidad espacial)\n",
        "delta_t = 0.1 # granularidad temporal\n",
        "# tengo que aumentar esto para ver una animación más fluida y que los cálculos sean más precisos\n",
        "T = 50\n",
        "\n",
        "accFreno = -50 * pxpm * delta_t**2 #m/s^2 * px/m * s^2/delta_t^2-> px/delta_t^2 \n",
        "radioCerc = 4 * pxpm\n",
        "\n",
        "debug = False\n",
        "debugMap = True\n",
        "\n",
        "main()"
      ],
      "metadata": {
        "colab": {
          "base_uri": "https://localhost:8080/",
          "height": 227
        },
        "id": "d5p2RfpcENAk",
        "outputId": "ead18b84-b501-4e84-cce9-067084cf7d1c"
      },
      "execution_count": null,
      "outputs": [
        {
          "output_type": "stream",
          "name": "stdout",
          "text": [
            "Total: 26 \n",
            "Meta: 3 \n",
            "Accidentados: 10 \n",
            "Andando: 13\n"
          ]
        },
        {
          "output_type": "error",
          "ename": "SystemExit",
          "evalue": "ignored",
          "traceback": [
            "An exception has occurred, use %tb to see the full traceback.\n",
            "\u001b[0;31mSystemExit\u001b[0m\u001b[0;31m:\u001b[0m 0\n"
          ]
        },
        {
          "output_type": "stream",
          "name": "stderr",
          "text": [
            "/usr/local/lib/python3.7/dist-packages/IPython/core/interactiveshell.py:2890: UserWarning: To exit: use 'exit', 'quit', or Ctrl-D.\n",
            "  warn(\"To exit: use 'exit', 'quit', or Ctrl-D.\", stacklevel=1)\n"
          ]
        }
      ]
    },
    {
      "cell_type": "markdown",
      "source": [
        "## Gráficos"
      ],
      "metadata": {
        "id": "wE7gw0vEEC8S"
      }
    },
    {
      "cell_type": "code",
      "execution_count": null,
      "metadata": {
        "colab": {
          "base_uri": "https://localhost:8080/",
          "height": 694
        },
        "id": "6vFsCxa_Nfu0",
        "outputId": "3afc26d9-a5d3-4e5a-d136-3132f2b98c4b"
      },
      "outputs": [
        {
          "output_type": "display_data",
          "data": {
            "image/png": "[encoded data removed]",
            "text/plain": [
              "<Figure size 864x720 with 1 Axes>"
            ]
          },
          "metadata": {
            "needs_background": "light"
          }
        },
        {
          "output_type": "stream",
          "name": "stdout",
          "text": [
            "Total: 301 \n",
            "Meta: 51 \n",
            "Accidentados: 236 \n",
            "Andando: 14\n"
          ]
        }
      ],
      "source": [
        "T = 300\n",
        "debug = False\n",
        "debugMap = False\n",
        "\n",
        "main()"
      ]
    },
    {
      "cell_type": "markdown",
      "source": [
        "# Modelo de compartimiento"
      ],
      "metadata": {
        "id": "0HvE1k39mTXM"
      }
    },
    {
      "cell_type": "markdown",
      "source": [
        "Si bien, se considera un caso ideal como el que se presenta a continuación, debido a la complejidad y tiempo disponible, se propone un modelo simplificado."
      ],
      "metadata": {
        "id": "MIDX-GLiCSje"
      }
    },
    {
      "cell_type": "markdown",
      "source": [
        "![compartimientoACM2.png](data:image/png;base64,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)"
      ],
      "metadata": {
        "id": "8wgkL69nDNnD"
      }
    },
    {
      "cell_type": "markdown",
      "source": [
        "Con tal de poder buscar una solución de manera práctica, se propone el siguiente modelo en reemplazo del anterior."
      ],
      "metadata": {
        "id": "1dAoXl5aDRA_"
      }
    },
    {
      "cell_type": "markdown",
      "source": [
        "![compartimientoACM1.png](data:image/png;base64,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)"
      ],
      "metadata": {
        "id": "paLoiqALDYtR"
      }
    },
    {
      "cell_type": "markdown",
      "source": [
        "### Compartimientos\n",
        "$B_{an}(t)$: Bicicletas andando  \n",
        "$B_{f}(t)$: Bicicletas frenando  \n",
        "$B_{p}(t)$: Bicicletas en otra pista"
      ],
      "metadata": {
        "id": "NSVrZv59mWPN"
      }
    },
    {
      "cell_type": "markdown",
      "source": [
        "### Flujos\n",
        "$\\alpha$: Entrada  \n",
        "$\\pi_1$: Cambiar de pista  \n",
        "$\\pi_2$: Volver a pista original  \n",
        "$\\phi_1$: Comenzar a frenar  \n",
        "$\\phi_2$: Dejar de frenar  \n",
        "$\\gamma$: Meta  \n",
        "$\\beta_1$: Bicicletas colisionadas  \n",
        "$\\beta_2$: Accidentes en otra pista  \n",
        "$\\beta_3$: Accidentes al frenar"
      ],
      "metadata": {
        "id": "x7Y32mD9mXUH"
      }
    },
    {
      "cell_type": "markdown",
      "source": [
        "$$B_{an}'(t) = \\alpha + \\pi_2 B_p(t) + \\phi_2 B_f(t) - \\pi_1 B_{an}(t)-\\phi_1 B_{an}(t) - \\gamma B_{an}(t) - \\beta_1 B_{an}(t) $$\n",
        "$$B_{an}'(t) = \\alpha + \\pi_2 B_p(t) + \\phi_2 B_f(t) - (\\pi_1 +\\phi_1 + \\gamma + \\beta_1) B_{an} (t) $$\n",
        "\n",
        "</br>  \n",
        "$$B_f'(t) = \\phi_1 B_{an}(t) - \\phi_2 B_{f}(t) - \\beta_3 B_{f}(t) $$\n",
        "\n",
        "</br>\n",
        "$$B_p'(t) = \\pi_1 B_{an}(t) - \\pi_2 B_{p}(t) - \\beta_2 B_{p}(t)$$\n"
      ],
      "metadata": {
        "id": "9tFSl6FEl3uE"
      }
    },
    {
      "cell_type": "code",
      "source": [
        "# entrada\n",
        "alpha = 0.1\n",
        "# pista\n",
        "pi_1 = 0.4\n",
        "pi_2 = 0.8*pi_1 # es menos probable volver que cambiar\n",
        "# freno\n",
        "phi_1 = 0.8\n",
        "phi_2 = 0.6\n",
        "# meta\n",
        "gamma = 0.2\n",
        "# accidentes\n",
        "beta_2 = 0.15\n",
        "beta_3 = 0.1\n",
        "beta_1 = pi_1 * beta_2 + phi_1 * beta_3 # los accidentes andando son solo producidos por las demás bicicletas chocándoles"
      ],
      "metadata": {
        "id": "RNZWfOrTonC5"
      },
      "execution_count": null,
      "outputs": []
    },
    {
      "cell_type": "code",
      "source": [
        "from scipy import integrate"
      ],
      "metadata": {
        "id": "q8cBLSgc_uTf"
      },
      "execution_count": null,
      "outputs": []
    },
    {
      "cell_type": "code",
      "source": [
        "# diferencial\n",
        "def d_y(t, y, alpha, pi_1, pi_2, phi_1, phi_2, gamma, beta_1, beta_2, beta_3):\n",
        "    y1 = y[0] # B_an\n",
        "    y2 = y[1] # B_f\n",
        "    y3 = y[2] # B_p\n",
        "    y4 = y[3] # Meta\n",
        "    y5 = y[4] # Accidentados por frenar\n",
        "    y6 = y[5] # Accidentados en otra pista\n",
        "    \n",
        "    return np.array([alpha + pi_2 * y3 + phi_2 * y2 - (phi_1 + phi_1 + gamma + beta_1) * y1,\n",
        "                     phi_1 * y1 - (phi_2 * + beta_3) * y2,\n",
        "                     pi_1 * y1 - (pi_2 + beta_2) * y3,\n",
        "                     gamma * y1,\n",
        "                     beta_3 * y2,\n",
        "                     beta_2 * y3])"
      ],
      "metadata": {
        "id": "Q8c2A1FHBPD9"
      },
      "execution_count": null,
      "outputs": []
    },
    {
      "cell_type": "code",
      "source": [
        "#graficar modelo de compartimiento\n",
        "def grafCompartimiento(t):\n",
        "\n",
        "    x = np.linspace(0, t, t + 1)\n",
        "    \n",
        "    # valores iniciales\n",
        "    y0 = np.array([alpha, 0, 0, 0, 0, 0])\n",
        "    \n",
        "    sol = integrate.solve_ivp(d_y, [0,t], y0, t_eval=x, args=(alpha, pi_1, pi_2, phi_1, phi_2, gamma, beta_1, beta_2, beta_3))\n",
        "    \n",
        "    # por si acaso\n",
        "    ylen = len(sol.y[0])\n",
        "    \n",
        "    plt.figure(figsize=(10,12))\n",
        "    plt.title(\"Modelo de compartimiento\")\n",
        "    plt.plot(x[0:ylen], sol.y[0], '.', color=\"gold\", label='Bicicletas andando')\n",
        "    plt.plot(x[0:ylen], sol.y[1], '.', color=\"lawngreen\", label='Bicicletas frenando')\n",
        "    plt.plot(x[0:ylen], sol.y[2], '.', color=\"royalblue\", label='Bicicletas en otra pista')\n",
        "    plt.plot(x[0:ylen], sol.y[3], 'g.', label='Meta')\n",
        "    plt.plot(x[0:ylen], sol.y[4], '.', color=\"hotpink\", label='Accidentes por frenar')\n",
        "    plt.plot(x[0:ylen], sol.y[5], '.', color=\"indigo\", label='Accidentes en otra pista')\n",
        "\n",
        "    plt.legend(loc='best')\n",
        "    plt.xlabel('t [s]')\n",
        "    plt.ylabel('Población')\n",
        "    plt.grid(True)\n",
        "    plt.show()"
      ],
      "metadata": {
        "id": "4UT1fIan_Vc7"
      },
      "execution_count": null,
      "outputs": []
    },
    {
      "cell_type": "code",
      "source": [
        "grafCompartimiento(100)"
      ],
      "metadata": {
        "colab": {
          "base_uri": "https://localhost:8080/",
          "height": 730
        },
        "id": "eEJMHuchXYO5",
        "outputId": "9a1a8dd4-61c2-4bc2-ac2e-a3e508439cc7"
      },
      "execution_count": null,
      "outputs": [
        {
          "output_type": "display_data",
          "data": {
            "image/png": "[encoded data removed]",
            "text/plain": [
              "<Figure size 720x864 with 1 Axes>"
            ]
          },
          "metadata": {
            "needs_background": "light"
          }
        }
      ]
    }
  ],
  "metadata": {
    "interpreter": {
      "hash": "476ca57caaaf29eaca811589249bc647130eae8f93dbecaa9f4697b232f44a9f"
    },
    "kernelspec": {
      "display_name": "Python 3.9.9 64-bit (windows store)",
      "language": "python",
      "name": "python3"
    },
    "language_info": {
      "codemirror_mode": {
        "name": "ipython",
        "version": 3
      },
      "file_extension": ".py",
      "mimetype": "text/x-python",
      "name": "python",
      "nbconvert_exporter": "python",
      "pygments_lexer": "ipython3",
      "version": "3.9.9"
    },
    "orig_nbformat": 4,
    "colab": {
      "name": "Proyecto_ACM_Jose_Quezada.ipynb",
      "provenance": [],
      "collapsed_sections": []
    }
  },
  "nbformat": 4,
  "nbformat_minor": 0
}