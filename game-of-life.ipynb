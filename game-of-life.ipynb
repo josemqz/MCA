{
 "cells": [
  {
   "cell_type": "code",
   "execution_count": 10,
   "metadata": {},
   "outputs": [],
   "source": [
    "import numpy as np\n",
    "import matplotlib.pyplot as plt\n",
    "# import matplotlib.animation as animation\n",
    "from IPython.display import clear_output\n",
    "\n",
    "dim = 100\n",
    "p = 0.9"
   ]
  },
  {
   "cell_type": "code",
   "execution_count": 2,
   "metadata": {},
   "outputs": [],
   "source": [
    "# obtener coordenadas en una matriz dim x dim a partir de un índice\n",
    "def getCoordsFromIndex(index):\n",
    "    x = int(index/dim)\n",
    "    y = index - x*dim\n",
    "    return x, y\n",
    "\n",
    "# proceso inverso\n",
    "def getIndexFromCoords(x, y):\n",
    "    index = dim*x + y\n",
    "    return index"
   ]
  },
  {
   "cell_type": "code",
   "execution_count": 3,
   "metadata": {},
   "outputs": [],
   "source": [
    "Vecindario = [[-1, 1], [0, 1], [1, 1],\n",
    "              [-1, 0],         [1, 0], \n",
    "              [-1,-1], [0,-1], [1,-1]]"
   ]
  },
  {
   "cell_type": "code",
   "execution_count": 4,
   "metadata": {},
   "outputs": [],
   "source": [
    "def vecinosVivos(space_arr, vecindario):\n",
    "    vv = 0\n",
    "    for v in vecindario:\n",
    "        if space_arr[v[1], v[0]]:\n",
    "            vv += 1\n",
    "\n",
    "    return vv"
   ]
  },
  {
   "cell_type": "code",
   "execution_count": 5,
   "metadata": {},
   "outputs": [],
   "source": [
    "# a partir de un movimiento se retorna la posición correcta\n",
    "# útil cuando posición actual está en un borde\n",
    "def vecinoBorde(posActual, vecino, xMax, yMax):\n",
    "    \n",
    "    # coordenadas finales\n",
    "    xCoordVecino = posActual[0] + vecino[0]\n",
    "    yCoordVecino = posActual[1] + vecino[1]\n",
    "\n",
    "    # en X\n",
    "    if xCoordVecino < xMax and xCoordVecino >= 0:\n",
    "        xAct = xCoordVecino\n",
    "    elif xCoordVecino < 0:\n",
    "        xAct = xMax - 1\n",
    "    else:\n",
    "        xAct = 0\n",
    "\n",
    "    # en Y\n",
    "    if yCoordVecino < yMax and yCoordVecino >= 0:\n",
    "        yAct = yCoordVecino\n",
    "    elif yCoordVecino < 0:\n",
    "        yAct = yMax - 1\n",
    "    else:\n",
    "        yAct = 0\n",
    "\n",
    "    return xAct, yAct"
   ]
  },
  {
   "cell_type": "code",
   "execution_count": 6,
   "metadata": {},
   "outputs": [],
   "source": [
    "\n",
    "def vecindarioActual(pos):\n",
    "    VA = []\n",
    "\n",
    "    for v in Vecindario:\n",
    "        vb = vecinoBorde(pos, v, dim, dim)\n",
    "        # print(\"vecinos x:\", vb)\n",
    "        VA.append(vb)\n",
    "\n",
    "    return VA"
   ]
  },
  {
   "cell_type": "code",
   "execution_count": 7,
   "metadata": {},
   "outputs": [],
   "source": [
    "# aplicar reglas\n",
    "def rules(space_arr, state_arr):\n",
    "\n",
    "    act_cells = set(state_arr)\n",
    "\n",
    "    for cell in state_arr:\n",
    "        x, y = getCoordsFromIndex(cell)\n",
    "        vec = vecindarioActual([x, y])\n",
    "        for v in vec:\n",
    "            act_cells.add(getIndexFromCoords(v[0], v[1])) # v son coordenadas\n",
    "        \n",
    "    # se verifican todas las celulas vivas y sus vecinos\n",
    "    act_cells_list = list(act_cells)\n",
    "    new_cells = []\n",
    "    for cell in act_cells_list:\n",
    "        \n",
    "        x, y = getCoordsFromIndex(cell)\n",
    "        \n",
    "        # obtener vecinos en casos borde\n",
    "        vec = vecindarioActual([x, y])\n",
    "        nVivos = vecinosVivos(space_arr, vec)\n",
    "        \n",
    "        alive = space_arr[y,x]\n",
    "\n",
    "        if not alive and nVivos == 3:\n",
    "            space_arr[y, x] = True\n",
    "            new_cells.append(cell)\n",
    "\n",
    "        elif alive:\n",
    "            if nVivos < 2 or nVivos > 3:\n",
    "                space_arr[y, x] = False\n",
    "            else:\n",
    "                new_cells.append(cell)\n",
    "\n",
    "    return space_arr, np.array(new_cells)"
   ]
  },
  {
   "cell_type": "code",
   "execution_count": 8,
   "metadata": {},
   "outputs": [],
   "source": [
    "def initMap():\n",
    "\n",
    "    S = np.random.rand(dim, dim) > p\n",
    "    Y, X = np.where(S) #[Y, X]\n",
    "    \n",
    "    E = getIndexFromCoords(X, Y)\n",
    "\n",
    "    return S, E"
   ]
  },
  {
   "cell_type": "code",
   "execution_count": 11,
   "metadata": {},
   "outputs": [
    {
     "data": {
      "image/png": "[encoded data removed]",
      "text/plain": [
       "<Figure size 864x864 with 1 Axes>"
      ]
     },
     "metadata": {
      "needs_background": "light"
     },
     "output_type": "display_data"
    }
   ],
   "source": [
    "# 10.000 x 10.000\n",
    "# 2 grillas -> espacial y estados\n",
    "\n",
    "# N: live neighbors\n",
    "\n",
    "# N < 2 : 1 -> 0\n",
    "# N > 3 : 1 -> 0\n",
    "# 2 - 3 N : 1 -> 1\n",
    "\n",
    "# N == 3 : 0 -> 1\n",
    "\n",
    "\n",
    "np.random.seed(10)\n",
    "\n",
    "S, E = initMap()\n",
    "\n",
    "T = 10\n",
    "t = 0\n",
    "while t < T:\n",
    "        \n",
    "    Y, X = np.where(S)\n",
    "\n",
    "    fig, ax = plt.subplots(figsize=(12,12))\n",
    "    ax.plot(X,Y, \".\")\n",
    "\n",
    "    S, E = rules(S, E)\n",
    "\n",
    "    plt.show()\n",
    "    plt.pause(0.01)\n",
    "    clear_output(wait=True)\n",
    "    t += 1"
   ]
  }
 ],
 "metadata": {
  "interpreter": {
   "hash": "476ca57caaaf29eaca811589249bc647130eae8f93dbecaa9f4697b232f44a9f"
  },
  "kernelspec": {
   "display_name": "Python 3.9.9 64-bit (windows store)",
   "language": "python",
   "name": "python3"
  },
  "language_info": {
   "codemirror_mode": {
    "name": "ipython",
    "version": 3
   },
   "file_extension": ".py",
   "mimetype": "text/x-python",
   "name": "python",
   "nbconvert_exporter": "python",
   "pygments_lexer": "ipython3",
   "version": "3.9.9"
  },
  "orig_nbformat": 4
 },
 "nbformat": 4,
 "nbformat_minor": 2
}
